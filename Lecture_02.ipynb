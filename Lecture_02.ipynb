{
 "cells": [
  {
   "cell_type": "markdown",
   "id": "5508e480",
   "metadata": {},
   "source": [
    "# Lecture 2"
   ]
  },
  {
   "cell_type": "markdown",
   "id": "7ea3fa4b",
   "metadata": {},
   "source": [
    "## Levels of Representation and Ambiguity"
   ]
  },
  {
   "cell_type": "markdown",
   "id": "0908d382",
   "metadata": {},
   "source": [
    "### Levels of Linguistic Representation\n",
    "* Phonetics / phonology -- sounds and sound patterns of language\n",
    "* Morphology -- formation of words (involves prefixes, suffixes, endings for different verbs, possessive endings to words, etc.)\n",
    "    * Ex. she wants vs. she wanted, the object is hers, in-validate-ed\n",
    "* Syntax -- word order (subject, verb phrase construction)\n",
    "* Semantics -- word and sentence meaning (world placement and how it affects the meaning of a sentence)\n",
    "* Pragmatics -- influence of context and situation (involves intention, situation, how it influences the situation and interpretation of words)"
   ]
  },
  {
   "cell_type": "markdown",
   "id": "ce6246ac",
   "metadata": {},
   "source": [
    "### Ambiguity\n",
    "* Natural languages are difficult (unlike artificial languages) because they are full of ambiguity\n",
    "* Ambiguity can occur on all levels of representation\n",
    "* Understanding spoken/written language depends heavily on context"
   ]
  },
  {
   "cell_type": "markdown",
   "id": "a867ce0a",
   "metadata": {},
   "source": [
    "### Syntactic Structure \n",
    "* Part-of-speech tagging deals with classifying every word in a phrase/sentence\n",
    "* Classify words as nouns, verbs, adjectives, adverbs, articles\n",
    "* Determine subjects and objects "
   ]
  },
  {
   "cell_type": "markdown",
   "id": "045eea60",
   "metadata": {},
   "source": [
    "### Structural Ambiguity\n",
    "* Interplay between constituent structure and modification\n",
    "* Prepositional phrase attachment \n",
    "* Nesting of noun phrases and prepositional phrases impacts sentence structure and meaning:\n",
    "    * Example: Enraged cow injures farmer with ax\n",
    "        * [Enraged cow] [injures [farmer [with ax]]] -- implies ax belongs to farmer\n",
    "        * [Enraged cow] injures [farmer] [with ax] -- implies ax belongs to cow\n",
    "    * Example: ban on nude dancing on governor’s desk\n",
    "        * [Ban] on [nude dancing [on governor’s desk]] -- ban nude dancing on desk\n",
    "        * [[Ban] on [nude dancing]] [on governor’s desk] -- nude dancing ban on desk\n",
    "* Recursive structure / nesting of phrases highly impacts sentence meaning"
   ]
  }
 ],
 "metadata": {
  "kernelspec": {
   "display_name": "Python 3 (ipykernel)",
   "language": "python",
   "name": "python3"
  },
  "language_info": {
   "codemirror_mode": {
    "name": "ipython",
    "version": 3
   },
   "file_extension": ".py",
   "mimetype": "text/x-python",
   "name": "python",
   "nbconvert_exporter": "python",
   "pygments_lexer": "ipython3",
   "version": "3.10.6"
  }
 },
 "nbformat": 4,
 "nbformat_minor": 5
}
