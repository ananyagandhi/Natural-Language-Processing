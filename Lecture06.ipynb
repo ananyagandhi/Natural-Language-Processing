{
 "cells": [
  {
   "cell_type": "markdown",
   "metadata": {},
   "source": [
    "# Lecture 6"
   ]
  },
  {
   "cell_type": "markdown",
   "metadata": {},
   "source": [
    "## Introduction to Syntax and Formal Languages"
   ]
  },
  {
   "cell_type": "markdown",
   "metadata": {},
   "source": [
    "### Syntax\n",
    "* Study of **structure** of language\n",
    "    * How words are arranged in a sentence (word order) and the relationship between them\n",
    "    * Goal: relate surface form to semantics (meaning)"
   ]
  },
  {
   "cell_type": "markdown",
   "metadata": {},
   "source": [
    "### Syntax as an Interface\n",
    "* Syntax can be seen as the interface between morphology (structure of words) and semantics\n",
    "* Syntax allows you to judge if a sentence is grammatical or not, even if it does not make sense semantically\n",
    "    * \"Colorless green ideas sleep furiously\"\n",
    "    * Has no meaning, but is grammatically correct"
   ]
  },
  {
   "cell_type": "markdown",
   "metadata": {},
   "source": [
    "### Types of Linguistic Theories\n",
    "* **Prescriptive:** \"prescriptive linguistics\" is how people should talk\n",
    "* **Descriptive:** provides a formal account of **how** people talk, not how they should talk\n",
    "* **Explanatory:** explains **why** people talk a certain way"
   ]
  }
 ],
 "metadata": {
  "colab": {
   "provenance": []
  },
  "kernelspec": {
   "display_name": "Python 3 (ipykernel)",
   "language": "python",
   "name": "python3"
  },
  "language_info": {
   "codemirror_mode": {
    "name": "ipython",
    "version": 3
   },
   "file_extension": ".py",
   "mimetype": "text/x-python",
   "name": "python",
   "nbconvert_exporter": "python",
   "pygments_lexer": "ipython3",
   "version": "3.10.6"
  }
 },
 "nbformat": 4,
 "nbformat_minor": 1
}
