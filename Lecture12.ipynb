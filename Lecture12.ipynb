{
 "cells": [
  {
   "cell_type": "markdown",
   "id": "259f9a18",
   "metadata": {},
   "source": [
    "# Lecture 12"
   ]
  },
  {
   "cell_type": "markdown",
   "id": "1de01f4a",
   "metadata": {},
   "source": [
    "## Lexical Semantics - Word Senses and Lexical Relations"
   ]
  },
  {
   "cell_type": "markdown",
   "id": "c733748c",
   "metadata": {},
   "source": [
    "### Natural Language Semantics\n",
    "* Semantics is concerned with the meaning of language\n",
    "    * Lexical Semantics: what is the meaning of individual words?\n",
    "    * Computational Semantics: how do we compute language meaning from word meaning?\n",
    "    * How do we represent meaning?"
   ]
  },
  {
   "cell_type": "markdown",
   "id": "3fb77e70",
   "metadata": {},
   "source": [
    "### Word Senses\n",
    "* Different word senses of the same word can denote different (more or less related) concepts\n",
    "    * bank (of a river) vs. bank (financial institution) vs. bank (storage facility)\n",
    "    * mouse (animal) vs. mouse (computer accessory)\n",
    "    * bright (light) vs. bright (idea)\n",
    "* Lexeme: pairing of a word form with its sense (ex. bank has 3 lexemes, mouse has 2 lexemes)\n",
    "    * Example: (bank, of a river)"
   ]
  },
  {
   "cell_type": "markdown",
   "id": "9c9658dc",
   "metadata": {},
   "source": [
    "### Hononymy\n",
    "* Hononymy is a relation between concepts/senses:\n",
    "    * Multiple **unrelated** concepts may correspond to the same word form\n",
    "    * Examples: check (check on something, write a check), kind (being kind, kind of object)"
   ]
  },
  {
   "cell_type": "markdown",
   "id": "6a03ef4f",
   "metadata": {},
   "source": [
    "### Polysemy\n",
    "* Type of hononymy where the same word form corresponds to multiple semantically related concepts\n",
    "* Examples: wood (material that trees are made of vs. forested area), bank (financial institution vs. building)"
   ]
  },
  {
   "cell_type": "markdown",
   "id": "e0f0947c",
   "metadata": {},
   "source": [
    "### Metonomy\n",
    "* A subtype of polysemy\n",
    "* Systematic and productive\n",
    "* One aspect of a concept is used to refer to other aspects of a concept\n",
    "    * Building <-> Organization (bank, school are both physical buildings and organizations/institutions)\n",
    "    * Animal <-> Meat (chicken used to refer to animal and meat, as opposed to cow vs. beef)"
   ]
  },
  {
   "cell_type": "markdown",
   "id": "b4a188ae",
   "metadata": {},
   "source": [
    "### Synonyms\n",
    "* Two lexemes are synonyms if they refer to the same concept:\n",
    "    * couch vs. sofa\n",
    "    * vomit vs. throw up\n",
    "    * car vs. automobile\n",
    "    * water vs. $H_2 O$"
   ]
  },
  {
   "cell_type": "markdown",
   "id": "f11940f4",
   "metadata": {},
   "source": [
    "### Lexical Substitution\n",
    "* Two lexemes are synonyms if they can be substituted for each other in a sentence, such that the sentence retains its meaning\n",
    "* Synonymy is a relationship between lexemes (word senses) as opposed to words\n",
    "    * Example: the plane was big (large) \n",
    "    * Example: she is like a big (large) sister to him -- cannot use big and large interchangeably in this example because they have different word senses"
   ]
  },
  {
   "cell_type": "markdown",
   "id": "01865cfa",
   "metadata": {},
   "source": [
    "### WordNet\n",
    "* WordNet is a lexical database containing English word senses and relations\n",
    "* Represents word sense as **synsets**, sets of lemmas that have synonymous lexemes in one context:\n",
    "    * Example: {composition, paper, report, theme}\n",
    "* Contains synonyms, antonyms, hypernyms, meronyms, and frequency information"
   ]
  },
  {
   "cell_type": "markdown",
   "id": "ab0ceb34",
   "metadata": {},
   "source": [
    "### Antonyms\n",
    "* Senses that are opposites with respect to one specific feature of their meaning (otherwise, very similar)\n",
    "* Examples: dark/light (measure luminosity), short/long (measures length), hot/cold (measures temperature)"
   ]
  },
  {
   "cell_type": "markdown",
   "id": "c2c87d23",
   "metadata": {},
   "source": [
    "### Hyponymy\n",
    "* One sense is a hyponym (or subordinate) of another sense if the first sense is more specific, denoting a subclass of the other\n",
    "    * dog is a hyponym of mammal\n",
    "    * mammal is a hyponym of animal\n",
    "    * sprint is a hyponym of run\n",
    "* The inverse relation is **hypernymy**, so we can say that mammal is a hypernym (superordinate) of dog\n",
    "* Can think of hyponymy as a set relationship -- a hyponym is a subset of a hypernym\n",
    "    * Example: For all x, if x is a dog, then x is a mammal"
   ]
  },
  {
   "cell_type": "markdown",
   "id": "e1866c4a",
   "metadata": {},
   "source": [
    "### Meronymy\n",
    "* Part-whole relationship\n",
    "* A meronym is a part of another concept:\n",
    "    * leg is a meronym of chair\n",
    "    * wheel is a meronym of car\n",
    "    * cellulose is a meronym of paper (substance)\n",
    "* The inverse relationship is **holonymy:** car is a holonym of wheel"
   ]
  },
  {
   "cell_type": "markdown",
   "id": "971e94ba",
   "metadata": {},
   "source": [
    "### Word Sense Disambiguation (WSD)\n",
    "* Given a word token in context, identify its correct word sense (from a list of possible word-senses)\n",
    "* Two types of WSD tasks:\n",
    "    * Lexical Sample task -- select senses for a small set of target words\n",
    "    * All-words task -- select senses for every word in an entire text\n",
    "* Can use supervised machine learning, dictionary methods (like WordNet), or semi-supervised learning for these tasks"
   ]
  },
  {
   "cell_type": "markdown",
   "id": "e9758809",
   "metadata": {},
   "source": [
    "### Simplified Lesk Algorithm \n",
    "* Use dictionary glosses for each sense\n",
    "* Choose the sense that has the highest word overlap between gloss and context (ignore function words or \"stopwords\")\n",
    "    * Example: The bank can guarantee **deposits** will eventually cover future tuition costs because it invests in adjustable-rate mortgage securities\n",
    "        * bank - sloping land (especially the slope beside a body of water)\n",
    "        * bank - a financial institution that accepts **deposits** and channels the money into lending activities\n",
    "    * Second definition has more overlap, so understand the meaning of \"bank\" as financial institution\n",
    "* Issue: overlap may be 0 even for the correct word sense, because the definition/examples are not very long"
   ]
  },
  {
   "cell_type": "markdown",
   "id": "d2910117",
   "metadata": {},
   "source": [
    "### Lexical Substitution\n",
    "* Instead of identifying word sense -- can we find a substitute for the target word, such that the meaning is preserved?"
   ]
  }
 ],
 "metadata": {
  "kernelspec": {
   "display_name": "Python 3 (ipykernel)",
   "language": "python",
   "name": "python3"
  },
  "language_info": {
   "codemirror_mode": {
    "name": "ipython",
    "version": 3
   },
   "file_extension": ".py",
   "mimetype": "text/x-python",
   "name": "python",
   "nbconvert_exporter": "python",
   "pygments_lexer": "ipython3",
   "version": "3.10.6"
  }
 },
 "nbformat": 4,
 "nbformat_minor": 5
}
