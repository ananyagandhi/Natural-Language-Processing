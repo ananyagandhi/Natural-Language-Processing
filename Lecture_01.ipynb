{
 "cells": [
  {
   "cell_type": "markdown",
   "id": "4b20703b",
   "metadata": {
    "id": "H8F9pwY2JS5o"
   },
   "source": [
    "# Lecture 1"
   ]
  },
  {
   "cell_type": "markdown",
   "id": "bf50cdc7",
   "metadata": {},
   "source": [
    "## Course Overview and Introduction"
   ]
  },
  {
   "cell_type": "markdown",
   "id": "35511451",
   "metadata": {
    "id": "3EPV7BMSJYbZ"
   },
   "source": [
    "### Syllabus\n",
    "\n",
    "\n"
   ]
  },
  {
   "cell_type": "markdown",
   "id": "54addcf8",
   "metadata": {
    "id": "lu1HGyhqJ3u8"
   },
   "source": [
    "*   5 programming assignments -- 50% of grade, lowest grade dropped\n",
    "    * 2 week turnaround for completing assignments\n",
    "    * Upload through Courseworks\n",
    "    * If late, upload code to a Google Drive folder and share with TAs\n",
    "    * Once you receive a grade, 48 hours to submit regrade requests\n",
    "    * Can ask for an extension -- medical / family emergency\n",
    "    * Otherwise, on 1 assignment you can submit up to 4 days late with a 20% deduction\n",
    "* Midterm Exam -- 3/6 and 20% of grade\n",
    "    * Closed book, closed notes, calculator allowed\n",
    "* Final Exam -- 5/1 and 30% of grade\n",
    "    * Cheat sheet allowed, double sided piece of paper\n",
    "* Both paper-based exams"
   ]
  },
  {
   "cell_type": "markdown",
   "id": "5c5e9b95",
   "metadata": {
    "id": "5wvuxMZeJybO"
   },
   "source": [
    "### Introduction\n",
    "* Turing Test -- a computer is classified as “intelligent” if it can fool a human interrogator into believing it is human\n",
    "* Natural Language Processing vs. Computational Linguistics\n",
    "    * NLP: build systems that can understand and generate natural language, focus on applications\n",
    "    * Computational Linguistics: study human language using computational approaches\n",
    "* Applications of NLP\n",
    "    * Information retrieval (searching websites for relevant information)\n",
    "    * Text classification (filtering emails as spam, detecting topics/genre)\n",
    "    * Sentiment analysis (assigning text as positive, negative, neutral)\n",
    "    * Question answering (ChatGPT)\n",
    "    * Summarization (useful for extracting/abstracting information)\n",
    "    * Machine translation (dealing with multiple translations)\n",
    "    * Other applications include virtual assistants, image captioning, etc.\n",
    "* Evolution of ML techniques used in NLP\n",
    "    * Rules and heuristics, pattern matching, grammars\n",
    "    * Statistical NLP, generative probabilistic models\n",
    "    * Discriminative models, support vector machines, logistic regression\n",
    "    * Neural networks (RNNs, including LSTMs and CNNs)\n",
    "    * Transformer models, large language models, pretraining\n",
    "* Course Overview\n",
    "    * Core NLP techniques: language modeling, part-of-speech tagging, syntactic parsing, word-sense disambiguation, semantic parsing, text similarity\n",
    "    * Applications: text classification, machine translation, generation, image captioning\n",
    "    * Machine Learning Techniques: supervised machine learning, Bayesian models, sequence models (n-gram models, HMMs), deep learning techniques (RNNs, transformers)\n",
    "    * Critical assessment of NLP methods and data sets (NLP ethics)\n"
   ]
  }
 ],
 "metadata": {
  "kernelspec": {
   "display_name": "Python 3 (ipykernel)",
   "language": "python",
   "name": "python3"
  },
  "language_info": {
   "codemirror_mode": {
    "name": "ipython",
    "version": 3
   },
   "file_extension": ".py",
   "mimetype": "text/x-python",
   "name": "python",
   "nbconvert_exporter": "python",
   "pygments_lexer": "ipython3",
   "version": "3.10.6"
  }
 },
 "nbformat": 4,
 "nbformat_minor": 5
}
